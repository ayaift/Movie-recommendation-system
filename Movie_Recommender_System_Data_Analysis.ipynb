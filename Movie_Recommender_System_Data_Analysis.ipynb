{
  "cells": [
    {
      "cell_type": "markdown",
      "metadata": {
        "id": "UqkX_lK2-RtV"
      },
      "source": [
        "# **Movies recommender system**"
      ]
    },
    {
      "cell_type": "markdown",
      "metadata": {
        "id": "bESCcdxe3cUG"
      },
      "source": [
        "**Necessary libraries**"
      ]
    },
    {
      "cell_type": "code",
      "execution_count": null,
      "metadata": {
        "id": "-6fbPX3b-RtX"
      },
      "outputs": [],
      "source": [
        "import numpy as np\n",
        "import pandas as pd\n",
        "import ast\n",
        "import os\n",
        "import pickle\n",
        "\n",
        "\n",
        "import nltk\n",
        "from nltk.stem import PorterStemmer\n",
        "\n",
        "from sklearn.feature_extraction.text import CountVectorizer\n",
        "from sklearn.metrics.pairwise import cosine_similarity"
      ]
    },
    {
      "cell_type": "markdown",
      "metadata": {
        "id": "ch05L6md36NY"
      },
      "source": [
        "**Extracting data**"
      ]
    },
    {
      "cell_type": "markdown",
      "metadata": {},
      "source": [
        "Access the dataset from jupyter notebook"
      ]
    },
    {
      "cell_type": "code",
      "execution_count": 46,
      "metadata": {},
      "outputs": [],
      "source": [
        "data_path = \"datasett\"\n",
        "\n",
        "movies = pd.read_csv(f\"{data_path}/movies.csv\")\n",
        "credits = pd.read_csv(f\"{data_path}/credits.csv\")"
      ]
    },
    {
      "cell_type": "markdown",
      "metadata": {},
      "source": [
        "Access from google colab"
      ]
    },
    {
      "cell_type": "code",
      "execution_count": null,
      "metadata": {
        "colab": {
          "base_uri": "https://localhost:8080/"
        },
        "id": "EWUCuQG3BQOJ",
        "outputId": "ffc2016a-2c10-4f34-dcff-72c59bced71f"
      },
      "outputs": [],
      "source": [
        "from google.colab import drive\n",
        "drive.mount('/content/drive')"
      ]
    },
    {
      "cell_type": "code",
      "execution_count": null,
      "metadata": {
        "id": "ZX2nm6Vi-RtY"
      },
      "outputs": [],
      "source": [
        "movies = pd.read_csv('/content/drive/MyDrive/dataset/tmdb_5000_movies.csv')\n",
        "credits = pd.read_csv('/content/drive/MyDrive/dataset/tmdb_5000_credits.csv')"
      ]
    },
    {
      "cell_type": "markdown",
      "metadata": {
        "id": "1hMcnKiY4CkS"
      },
      "source": [
        "**Data analyzing and preprocessing**"
      ]
    },
    {
      "cell_type": "markdown",
      "metadata": {
        "id": "MHx47X1b6gYk"
      },
      "source": [
        "for this project we used two tables:\n",
        "\n",
        "\n",
        "1.   **Table movies:** data about the movie itself like:\n",
        "`movie_id,title,overview,genres,keywords,release_date`\n",
        "\n",
        "2.   **Table credits:** data about who made the movie:\n",
        "`title,cast,crew`\n",
        "\n"
      ]
    },
    {
      "cell_type": "code",
      "execution_count": null,
      "metadata": {
        "colab": {
          "base_uri": "https://localhost:8080/"
        },
        "id": "S5VLzmWS-RtY",
        "outputId": "7329b2f7-f028-45a6-f70f-21501fa73218"
      },
      "outputs": [
        {
          "data": {
            "text/plain": [
              "(4803, 20)"
            ]
          },
          "execution_count": 4,
          "metadata": {},
          "output_type": "execute_result"
        }
      ],
      "source": [
        "movies.head(4)\n",
        "movies.shape"
      ]
    },
    {
      "cell_type": "code",
      "execution_count": null,
      "metadata": {
        "colab": {
          "base_uri": "https://localhost:8080/"
        },
        "id": "2gUKu7Vy-Rta",
        "outputId": "89f7e8ad-2a94-458e-e223-ab0242b517f8"
      },
      "outputs": [
        {
          "data": {
            "text/plain": [
              "(4803, 4)"
            ]
          },
          "execution_count": 5,
          "metadata": {},
          "output_type": "execute_result"
        }
      ],
      "source": [
        "credits.head(4)\n",
        "credits.shape"
      ]
    },
    {
      "cell_type": "markdown",
      "metadata": {
        "id": "3vQiNslT_bTH"
      },
      "source": [
        "Combines both datasets into one, matching tables where `movies.title == credits.title`"
      ]
    },
    {
      "cell_type": "code",
      "execution_count": null,
      "metadata": {
        "id": "3eOBHYuy-Rta"
      },
      "outputs": [],
      "source": [
        "movies = pd.merge(movies, credits, on='title')"
      ]
    },
    {
      "cell_type": "code",
      "execution_count": null,
      "metadata": {
        "id": "r0slkjqs-Rta"
      },
      "outputs": [],
      "source": [
        "#keep important columns for recommendation\n",
        "movies = movies[['movie_id','title','overview','genres','keywords','cast','crew']]"
      ]
    },
    {
      "cell_type": "code",
      "execution_count": null,
      "metadata": {
        "colab": {
          "base_uri": "https://localhost:8080/",
          "height": 303
        },
        "id": "xDyfQROl-Rtb",
        "outputId": "3329ad44-9142-4dfa-e3ee-b9620c96febc"
      },
      "outputs": [
        {
          "data": {
            "text/plain": [
              "movie_id    0\n",
              "title       0\n",
              "overview    3\n",
              "genres      0\n",
              "keywords    0\n",
              "cast        0\n",
              "crew        0\n",
              "dtype: int64"
            ]
          },
          "execution_count": 8,
          "metadata": {},
          "output_type": "execute_result"
        }
      ],
      "source": [
        "movies.isnull().sum() #checking for missing values"
      ]
    },
    {
      "cell_type": "code",
      "execution_count": null,
      "metadata": {
        "id": "zaKK5Rbj-Rtb"
      },
      "outputs": [],
      "source": [
        "movies.dropna(inplace=True) #remove missing values from the dataset"
      ]
    },
    {
      "cell_type": "code",
      "execution_count": null,
      "metadata": {
        "colab": {
          "base_uri": "https://localhost:8080/"
        },
        "id": "ZU9a0ZLE-Rtb",
        "outputId": "8943579e-df78-4809-b941-ee76dbae9f1f"
      },
      "outputs": [
        {
          "data": {
            "text/plain": [
              "np.int64(0)"
            ]
          },
          "execution_count": 10,
          "metadata": {},
          "output_type": "execute_result"
        }
      ],
      "source": [
        "movies.duplicated().sum()  #Count the number of duplicate rows in the df"
      ]
    },
    {
      "cell_type": "code",
      "execution_count": null,
      "metadata": {
        "id": "r-3a7ne8-Rtc"
      },
      "outputs": [],
      "source": [
        "#from string to list\n",
        "def convert(text):\n",
        "    return [i['name'] for i in ast.literal_eval(text)]"
      ]
    },
    {
      "cell_type": "code",
      "execution_count": null,
      "metadata": {
        "id": "Qhr8q4lq-Rtc"
      },
      "outputs": [],
      "source": [
        "movies['genres'] = movies['genres'].apply(convert)   #To have a list of genders"
      ]
    },
    {
      "cell_type": "code",
      "execution_count": null,
      "metadata": {
        "colab": {
          "base_uri": "https://localhost:8080/",
          "height": 379
        },
        "id": "mSxS5dE2-Rtc",
        "outputId": "e4aee0a2-dc83-43ea-a2f0-1a1775f04074"
      },
      "outputs": [
        {
          "data": {
            "text/html": [
              "<div>\n",
              "<style scoped>\n",
              "    .dataframe tbody tr th:only-of-type {\n",
              "        vertical-align: middle;\n",
              "    }\n",
              "\n",
              "    .dataframe tbody tr th {\n",
              "        vertical-align: top;\n",
              "    }\n",
              "\n",
              "    .dataframe thead th {\n",
              "        text-align: right;\n",
              "    }\n",
              "</style>\n",
              "<table border=\"1\" class=\"dataframe\">\n",
              "  <thead>\n",
              "    <tr style=\"text-align: right;\">\n",
              "      <th></th>\n",
              "      <th>movie_id</th>\n",
              "      <th>title</th>\n",
              "      <th>overview</th>\n",
              "      <th>genres</th>\n",
              "      <th>keywords</th>\n",
              "      <th>cast</th>\n",
              "      <th>crew</th>\n",
              "    </tr>\n",
              "  </thead>\n",
              "  <tbody>\n",
              "    <tr>\n",
              "      <th>0</th>\n",
              "      <td>19995</td>\n",
              "      <td>Avatar</td>\n",
              "      <td>In the 22nd century, a paraplegic Marine is di...</td>\n",
              "      <td>[Action, Adventure, Fantasy, Science Fiction]</td>\n",
              "      <td>[culture clash, future, space war, space colon...</td>\n",
              "      <td>[{\"cast_id\": 242, \"character\": \"Jake Sully\", \"...</td>\n",
              "      <td>[{\"credit_id\": \"52fe48009251416c750aca23\", \"de...</td>\n",
              "    </tr>\n",
              "    <tr>\n",
              "      <th>1</th>\n",
              "      <td>285</td>\n",
              "      <td>Pirates of the Caribbean: At World's End</td>\n",
              "      <td>Captain Barbossa, long believed to be dead, ha...</td>\n",
              "      <td>[Adventure, Fantasy, Action]</td>\n",
              "      <td>[ocean, drug abuse, exotic island, east india ...</td>\n",
              "      <td>[{\"cast_id\": 4, \"character\": \"Captain Jack Spa...</td>\n",
              "      <td>[{\"credit_id\": \"52fe4232c3a36847f800b579\", \"de...</td>\n",
              "    </tr>\n",
              "    <tr>\n",
              "      <th>2</th>\n",
              "      <td>206647</td>\n",
              "      <td>Spectre</td>\n",
              "      <td>A cryptic message from Bond’s past sends him o...</td>\n",
              "      <td>[Action, Adventure, Crime]</td>\n",
              "      <td>[spy, based on novel, secret agent, sequel, mi...</td>\n",
              "      <td>[{\"cast_id\": 1, \"character\": \"James Bond\", \"cr...</td>\n",
              "      <td>[{\"credit_id\": \"54805967c3a36829b5002c41\", \"de...</td>\n",
              "    </tr>\n",
              "    <tr>\n",
              "      <th>3</th>\n",
              "      <td>49026</td>\n",
              "      <td>The Dark Knight Rises</td>\n",
              "      <td>Following the death of District Attorney Harve...</td>\n",
              "      <td>[Action, Crime, Drama, Thriller]</td>\n",
              "      <td>[dc comics, crime fighter, terrorist, secret i...</td>\n",
              "      <td>[{\"cast_id\": 2, \"character\": \"Bruce Wayne / Ba...</td>\n",
              "      <td>[{\"credit_id\": \"52fe4781c3a36847f81398c3\", \"de...</td>\n",
              "    </tr>\n",
              "    <tr>\n",
              "      <th>4</th>\n",
              "      <td>49529</td>\n",
              "      <td>John Carter</td>\n",
              "      <td>John Carter is a war-weary, former military ca...</td>\n",
              "      <td>[Action, Adventure, Science Fiction]</td>\n",
              "      <td>[based on novel, mars, medallion, space travel...</td>\n",
              "      <td>[{\"cast_id\": 5, \"character\": \"John Carter\", \"c...</td>\n",
              "      <td>[{\"credit_id\": \"52fe479ac3a36847f813eaa3\", \"de...</td>\n",
              "    </tr>\n",
              "  </tbody>\n",
              "</table>\n",
              "</div>"
            ],
            "text/plain": [
              "   movie_id                                     title  \\\n",
              "0     19995                                    Avatar   \n",
              "1       285  Pirates of the Caribbean: At World's End   \n",
              "2    206647                                   Spectre   \n",
              "3     49026                     The Dark Knight Rises   \n",
              "4     49529                               John Carter   \n",
              "\n",
              "                                            overview  \\\n",
              "0  In the 22nd century, a paraplegic Marine is di...   \n",
              "1  Captain Barbossa, long believed to be dead, ha...   \n",
              "2  A cryptic message from Bond’s past sends him o...   \n",
              "3  Following the death of District Attorney Harve...   \n",
              "4  John Carter is a war-weary, former military ca...   \n",
              "\n",
              "                                          genres  \\\n",
              "0  [Action, Adventure, Fantasy, Science Fiction]   \n",
              "1                   [Adventure, Fantasy, Action]   \n",
              "2                     [Action, Adventure, Crime]   \n",
              "3               [Action, Crime, Drama, Thriller]   \n",
              "4           [Action, Adventure, Science Fiction]   \n",
              "\n",
              "                                            keywords  \\\n",
              "0  [culture clash, future, space war, space colon...   \n",
              "1  [ocean, drug abuse, exotic island, east india ...   \n",
              "2  [spy, based on novel, secret agent, sequel, mi...   \n",
              "3  [dc comics, crime fighter, terrorist, secret i...   \n",
              "4  [based on novel, mars, medallion, space travel...   \n",
              "\n",
              "                                                cast  \\\n",
              "0  [{\"cast_id\": 242, \"character\": \"Jake Sully\", \"...   \n",
              "1  [{\"cast_id\": 4, \"character\": \"Captain Jack Spa...   \n",
              "2  [{\"cast_id\": 1, \"character\": \"James Bond\", \"cr...   \n",
              "3  [{\"cast_id\": 2, \"character\": \"Bruce Wayne / Ba...   \n",
              "4  [{\"cast_id\": 5, \"character\": \"John Carter\", \"c...   \n",
              "\n",
              "                                                crew  \n",
              "0  [{\"credit_id\": \"52fe48009251416c750aca23\", \"de...  \n",
              "1  [{\"credit_id\": \"52fe4232c3a36847f800b579\", \"de...  \n",
              "2  [{\"credit_id\": \"54805967c3a36829b5002c41\", \"de...  \n",
              "3  [{\"credit_id\": \"52fe4781c3a36847f81398c3\", \"de...  \n",
              "4  [{\"credit_id\": \"52fe479ac3a36847f813eaa3\", \"de...  "
            ]
          },
          "execution_count": 13,
          "metadata": {},
          "output_type": "execute_result"
        }
      ],
      "source": [
        "movies['keywords'] = movies['keywords'].apply(convert)\n",
        "movies.head()"
      ]
    },
    {
      "cell_type": "code",
      "execution_count": null,
      "metadata": {
        "id": "xyK91KdS-Rtc"
      },
      "outputs": [],
      "source": [
        "def convert_cast(text):\n",
        "    return [i['name'] for i in ast.literal_eval(text)[:5]]\n"
      ]
    },
    {
      "cell_type": "code",
      "execution_count": null,
      "metadata": {
        "colab": {
          "base_uri": "https://localhost:8080/",
          "height": 379
        },
        "id": "LPOPxXbq-Rtc",
        "outputId": "927547e9-5c8c-4405-f810-7eae128fcdc2"
      },
      "outputs": [
        {
          "data": {
            "text/html": [
              "<div>\n",
              "<style scoped>\n",
              "    .dataframe tbody tr th:only-of-type {\n",
              "        vertical-align: middle;\n",
              "    }\n",
              "\n",
              "    .dataframe tbody tr th {\n",
              "        vertical-align: top;\n",
              "    }\n",
              "\n",
              "    .dataframe thead th {\n",
              "        text-align: right;\n",
              "    }\n",
              "</style>\n",
              "<table border=\"1\" class=\"dataframe\">\n",
              "  <thead>\n",
              "    <tr style=\"text-align: right;\">\n",
              "      <th></th>\n",
              "      <th>movie_id</th>\n",
              "      <th>title</th>\n",
              "      <th>overview</th>\n",
              "      <th>genres</th>\n",
              "      <th>keywords</th>\n",
              "      <th>cast</th>\n",
              "      <th>crew</th>\n",
              "    </tr>\n",
              "  </thead>\n",
              "  <tbody>\n",
              "    <tr>\n",
              "      <th>0</th>\n",
              "      <td>19995</td>\n",
              "      <td>Avatar</td>\n",
              "      <td>In the 22nd century, a paraplegic Marine is di...</td>\n",
              "      <td>[Action, Adventure, Fantasy, Science Fiction]</td>\n",
              "      <td>[culture clash, future, space war, space colon...</td>\n",
              "      <td>[Sam Worthington, Zoe Saldana, Sigourney Weave...</td>\n",
              "      <td>[{\"credit_id\": \"52fe48009251416c750aca23\", \"de...</td>\n",
              "    </tr>\n",
              "    <tr>\n",
              "      <th>1</th>\n",
              "      <td>285</td>\n",
              "      <td>Pirates of the Caribbean: At World's End</td>\n",
              "      <td>Captain Barbossa, long believed to be dead, ha...</td>\n",
              "      <td>[Adventure, Fantasy, Action]</td>\n",
              "      <td>[ocean, drug abuse, exotic island, east india ...</td>\n",
              "      <td>[Johnny Depp, Orlando Bloom, Keira Knightley, ...</td>\n",
              "      <td>[{\"credit_id\": \"52fe4232c3a36847f800b579\", \"de...</td>\n",
              "    </tr>\n",
              "    <tr>\n",
              "      <th>2</th>\n",
              "      <td>206647</td>\n",
              "      <td>Spectre</td>\n",
              "      <td>A cryptic message from Bond’s past sends him o...</td>\n",
              "      <td>[Action, Adventure, Crime]</td>\n",
              "      <td>[spy, based on novel, secret agent, sequel, mi...</td>\n",
              "      <td>[Daniel Craig, Christoph Waltz, Léa Seydoux, R...</td>\n",
              "      <td>[{\"credit_id\": \"54805967c3a36829b5002c41\", \"de...</td>\n",
              "    </tr>\n",
              "    <tr>\n",
              "      <th>3</th>\n",
              "      <td>49026</td>\n",
              "      <td>The Dark Knight Rises</td>\n",
              "      <td>Following the death of District Attorney Harve...</td>\n",
              "      <td>[Action, Crime, Drama, Thriller]</td>\n",
              "      <td>[dc comics, crime fighter, terrorist, secret i...</td>\n",
              "      <td>[Christian Bale, Michael Caine, Gary Oldman, A...</td>\n",
              "      <td>[{\"credit_id\": \"52fe4781c3a36847f81398c3\", \"de...</td>\n",
              "    </tr>\n",
              "    <tr>\n",
              "      <th>4</th>\n",
              "      <td>49529</td>\n",
              "      <td>John Carter</td>\n",
              "      <td>John Carter is a war-weary, former military ca...</td>\n",
              "      <td>[Action, Adventure, Science Fiction]</td>\n",
              "      <td>[based on novel, mars, medallion, space travel...</td>\n",
              "      <td>[Taylor Kitsch, Lynn Collins, Samantha Morton,...</td>\n",
              "      <td>[{\"credit_id\": \"52fe479ac3a36847f813eaa3\", \"de...</td>\n",
              "    </tr>\n",
              "  </tbody>\n",
              "</table>\n",
              "</div>"
            ],
            "text/plain": [
              "   movie_id                                     title  \\\n",
              "0     19995                                    Avatar   \n",
              "1       285  Pirates of the Caribbean: At World's End   \n",
              "2    206647                                   Spectre   \n",
              "3     49026                     The Dark Knight Rises   \n",
              "4     49529                               John Carter   \n",
              "\n",
              "                                            overview  \\\n",
              "0  In the 22nd century, a paraplegic Marine is di...   \n",
              "1  Captain Barbossa, long believed to be dead, ha...   \n",
              "2  A cryptic message from Bond’s past sends him o...   \n",
              "3  Following the death of District Attorney Harve...   \n",
              "4  John Carter is a war-weary, former military ca...   \n",
              "\n",
              "                                          genres  \\\n",
              "0  [Action, Adventure, Fantasy, Science Fiction]   \n",
              "1                   [Adventure, Fantasy, Action]   \n",
              "2                     [Action, Adventure, Crime]   \n",
              "3               [Action, Crime, Drama, Thriller]   \n",
              "4           [Action, Adventure, Science Fiction]   \n",
              "\n",
              "                                            keywords  \\\n",
              "0  [culture clash, future, space war, space colon...   \n",
              "1  [ocean, drug abuse, exotic island, east india ...   \n",
              "2  [spy, based on novel, secret agent, sequel, mi...   \n",
              "3  [dc comics, crime fighter, terrorist, secret i...   \n",
              "4  [based on novel, mars, medallion, space travel...   \n",
              "\n",
              "                                                cast  \\\n",
              "0  [Sam Worthington, Zoe Saldana, Sigourney Weave...   \n",
              "1  [Johnny Depp, Orlando Bloom, Keira Knightley, ...   \n",
              "2  [Daniel Craig, Christoph Waltz, Léa Seydoux, R...   \n",
              "3  [Christian Bale, Michael Caine, Gary Oldman, A...   \n",
              "4  [Taylor Kitsch, Lynn Collins, Samantha Morton,...   \n",
              "\n",
              "                                                crew  \n",
              "0  [{\"credit_id\": \"52fe48009251416c750aca23\", \"de...  \n",
              "1  [{\"credit_id\": \"52fe4232c3a36847f800b579\", \"de...  \n",
              "2  [{\"credit_id\": \"54805967c3a36829b5002c41\", \"de...  \n",
              "3  [{\"credit_id\": \"52fe4781c3a36847f81398c3\", \"de...  \n",
              "4  [{\"credit_id\": \"52fe479ac3a36847f813eaa3\", \"de...  "
            ]
          },
          "execution_count": 15,
          "metadata": {},
          "output_type": "execute_result"
        }
      ],
      "source": [
        "movies['cast'] = movies['cast'].apply(convert_cast)\n",
        "movies.head()"
      ]
    },
    {
      "cell_type": "code",
      "execution_count": null,
      "metadata": {
        "id": "3bNqnd1F-Rtd"
      },
      "outputs": [],
      "source": [
        "def get_director(text):  #extract director’s name from the crew\n",
        "    for i in ast.literal_eval(text):\n",
        "        if i['job'] == 'Director':\n",
        "            return [i['name']]\n",
        "    return []"
      ]
    },
    {
      "cell_type": "code",
      "execution_count": null,
      "metadata": {
        "id": "NerY_B2n-Rtd"
      },
      "outputs": [],
      "source": [
        "movies['crew'] = movies['crew'].apply(get_director)"
      ]
    },
    {
      "cell_type": "markdown",
      "metadata": {},
      "source": [
        "Convert overview to a list (important for tokenizing)"
      ]
    },
    {
      "cell_type": "code",
      "execution_count": null,
      "metadata": {
        "colab": {
          "base_uri": "https://localhost:8080/",
          "height": 52
        },
        "id": "UE404WWE-Rtd",
        "outputId": "fd90504e-6183-4e09-a949-4dc5ef34798d"
      },
      "outputs": [
        {
          "data": {
            "text/plain": [
              "'Captain Barbossa, long believed to be dead, has come back to life and is headed to the edge of the Earth with Will Turner and Elizabeth Swann. But nothing is quite as it seems.'"
            ]
          },
          "execution_count": 18,
          "metadata": {},
          "output_type": "execute_result"
        }
      ],
      "source": [
        "movies.iloc[1]['overview']"
      ]
    },
    {
      "cell_type": "code",
      "execution_count": null,
      "metadata": {
        "colab": {
          "base_uri": "https://localhost:8080/",
          "height": 261
        },
        "id": "GGpW1K-1-Rtd",
        "outputId": "c41b010a-9ef6-47db-a8dd-1ae39e326bf3"
      },
      "outputs": [
        {
          "data": {
            "text/html": [
              "<div>\n",
              "<style scoped>\n",
              "    .dataframe tbody tr th:only-of-type {\n",
              "        vertical-align: middle;\n",
              "    }\n",
              "\n",
              "    .dataframe tbody tr th {\n",
              "        vertical-align: top;\n",
              "    }\n",
              "\n",
              "    .dataframe thead th {\n",
              "        text-align: right;\n",
              "    }\n",
              "</style>\n",
              "<table border=\"1\" class=\"dataframe\">\n",
              "  <thead>\n",
              "    <tr style=\"text-align: right;\">\n",
              "      <th></th>\n",
              "      <th>movie_id</th>\n",
              "      <th>title</th>\n",
              "      <th>overview</th>\n",
              "      <th>genres</th>\n",
              "      <th>keywords</th>\n",
              "      <th>cast</th>\n",
              "      <th>crew</th>\n",
              "    </tr>\n",
              "  </thead>\n",
              "  <tbody>\n",
              "    <tr>\n",
              "      <th>2481</th>\n",
              "      <td>30890</td>\n",
              "      <td>Radio Days</td>\n",
              "      <td>[The, Narrator, (Woody, Allen), tells, us, how...</td>\n",
              "      <td>[Comedy, Drama]</td>\n",
              "      <td>[beach, taxi driver, world war ii, radio, cone...</td>\n",
              "      <td>[Woody Allen, Mia Farrow, Jeff Daniels, Larry ...</td>\n",
              "      <td>[Woody Allen]</td>\n",
              "    </tr>\n",
              "    <tr>\n",
              "      <th>3466</th>\n",
              "      <td>10622</td>\n",
              "      <td>Mr. Nice Guy</td>\n",
              "      <td>[A, Chinese, chef, accidentally, gets, involve...</td>\n",
              "      <td>[Crime, Action, Comedy]</td>\n",
              "      <td>[journalist, martial arts, cook, drug dealer]</td>\n",
              "      <td>[Jackie Chan, Richard Norton, Miki Lee, Gabrie...</td>\n",
              "      <td>[Sammo Hung]</td>\n",
              "    </tr>\n",
              "    <tr>\n",
              "      <th>541</th>\n",
              "      <td>9425</td>\n",
              "      <td>Soldier</td>\n",
              "      <td>[Sergeant, Todd, is, a, veteran, soldier, for,...</td>\n",
              "      <td>[Action, War, Science Fiction]</td>\n",
              "      <td>[space marine, dystopia, alien planet, genetic...</td>\n",
              "      <td>[Kurt Russell, Jason Scott Lee, Jason Isaacs, ...</td>\n",
              "      <td>[Paul W.S. Anderson]</td>\n",
              "    </tr>\n",
              "    <tr>\n",
              "      <th>1624</th>\n",
              "      <td>9452</td>\n",
              "      <td>Bulworth</td>\n",
              "      <td>[A, suicidally, disillusioned, liberal, politi...</td>\n",
              "      <td>[Comedy, Drama]</td>\n",
              "      <td>[mission of murder, politics, election campaig...</td>\n",
              "      <td>[Warren Beatty, Halle Berry, Sean Astin, Chris...</td>\n",
              "      <td>[Warren Beatty]</td>\n",
              "    </tr>\n",
              "  </tbody>\n",
              "</table>\n",
              "</div>"
            ],
            "text/plain": [
              "      movie_id         title  \\\n",
              "2481     30890    Radio Days   \n",
              "3466     10622  Mr. Nice Guy   \n",
              "541       9425       Soldier   \n",
              "1624      9452      Bulworth   \n",
              "\n",
              "                                               overview  \\\n",
              "2481  [The, Narrator, (Woody, Allen), tells, us, how...   \n",
              "3466  [A, Chinese, chef, accidentally, gets, involve...   \n",
              "541   [Sergeant, Todd, is, a, veteran, soldier, for,...   \n",
              "1624  [A, suicidally, disillusioned, liberal, politi...   \n",
              "\n",
              "                              genres  \\\n",
              "2481                 [Comedy, Drama]   \n",
              "3466         [Crime, Action, Comedy]   \n",
              "541   [Action, War, Science Fiction]   \n",
              "1624                 [Comedy, Drama]   \n",
              "\n",
              "                                               keywords  \\\n",
              "2481  [beach, taxi driver, world war ii, radio, cone...   \n",
              "3466      [journalist, martial arts, cook, drug dealer]   \n",
              "541   [space marine, dystopia, alien planet, genetic...   \n",
              "1624  [mission of murder, politics, election campaig...   \n",
              "\n",
              "                                                   cast                  crew  \n",
              "2481  [Woody Allen, Mia Farrow, Jeff Daniels, Larry ...         [Woody Allen]  \n",
              "3466  [Jackie Chan, Richard Norton, Miki Lee, Gabrie...          [Sammo Hung]  \n",
              "541   [Kurt Russell, Jason Scott Lee, Jason Isaacs, ...  [Paul W.S. Anderson]  \n",
              "1624  [Warren Beatty, Halle Berry, Sean Astin, Chris...       [Warren Beatty]  "
            ]
          },
          "execution_count": 19,
          "metadata": {},
          "output_type": "execute_result"
        }
      ],
      "source": [
        "movies['overview'] = movies['overview'].apply(lambda x:x.split())\n",
        "movies.sample(4)"
      ]
    },
    {
      "cell_type": "code",
      "execution_count": null,
      "metadata": {
        "colab": {
          "base_uri": "https://localhost:8080/"
        },
        "id": "kJw_DdRK-Rtd",
        "outputId": "c1e320d0-0814-449c-9519-7a761a22e9cf"
      },
      "outputs": [
        {
          "data": {
            "text/plain": [
              "['Captain',\n",
              " 'Barbossa,',\n",
              " 'long',\n",
              " 'believed',\n",
              " 'to',\n",
              " 'be',\n",
              " 'dead,',\n",
              " 'has',\n",
              " 'come',\n",
              " 'back',\n",
              " 'to',\n",
              " 'life',\n",
              " 'and',\n",
              " 'is',\n",
              " 'headed',\n",
              " 'to',\n",
              " 'the',\n",
              " 'edge',\n",
              " 'of',\n",
              " 'the',\n",
              " 'Earth',\n",
              " 'with',\n",
              " 'Will',\n",
              " 'Turner',\n",
              " 'and',\n",
              " 'Elizabeth',\n",
              " 'Swann.',\n",
              " 'But',\n",
              " 'nothing',\n",
              " 'is',\n",
              " 'quite',\n",
              " 'as',\n",
              " 'it',\n",
              " 'seems.']"
            ]
          },
          "execution_count": 20,
          "metadata": {},
          "output_type": "execute_result"
        }
      ],
      "source": [
        "movies.iloc[1]['overview']"
      ]
    },
    {
      "cell_type": "markdown",
      "metadata": {},
      "source": [
        "We will remove the spaces here because when tokenizing, the model can take the name as a token and the lastname as another which could mislead us to wrong recommendations"
      ]
    },
    {
      "cell_type": "code",
      "execution_count": null,
      "metadata": {
        "id": "sWSLT4bO-Rtd"
      },
      "outputs": [],
      "source": [
        "def remove_space(L):\n",
        "    return [i.replace(\" \", \"\") for i in L]"
      ]
    },
    {
      "cell_type": "markdown",
      "metadata": {
        "id": "A87YLO3UFW05"
      },
      "source": [
        "**Some data preprocessing to improves vectorization**"
      ]
    },
    {
      "cell_type": "code",
      "execution_count": null,
      "metadata": {
        "id": "n6cI3xqx-Rtd"
      },
      "outputs": [],
      "source": [
        "movies['cast'] = movies['cast'].apply(remove_space)\n",
        "movies['crew'] = movies['crew'].apply(remove_space)\n",
        "movies['genres'] = movies['genres'].apply(remove_space)\n",
        "movies['keywords'] = movies['keywords'].apply(remove_space)"
      ]
    },
    {
      "cell_type": "code",
      "execution_count": null,
      "metadata": {
        "id": "GxBsQX_O-Rte"
      },
      "outputs": [],
      "source": [
        "# Concatenation into one list per movie to get tags\n",
        "movies['tags'] = movies['overview'] + movies['genres'] + movies['keywords'] + movies['cast'] + movies['crew']"
      ]
    },
    {
      "cell_type": "code",
      "execution_count": null,
      "metadata": {},
      "outputs": [
        {
          "data": {
            "text/plain": [
              "['Captain',\n",
              " 'Barbossa,',\n",
              " 'long',\n",
              " 'believed',\n",
              " 'to',\n",
              " 'be',\n",
              " 'dead,',\n",
              " 'has',\n",
              " 'come',\n",
              " 'back',\n",
              " 'to',\n",
              " 'life',\n",
              " 'and',\n",
              " 'is',\n",
              " 'headed',\n",
              " 'to',\n",
              " 'the',\n",
              " 'edge',\n",
              " 'of',\n",
              " 'the',\n",
              " 'Earth',\n",
              " 'with',\n",
              " 'Will',\n",
              " 'Turner',\n",
              " 'and',\n",
              " 'Elizabeth',\n",
              " 'Swann.',\n",
              " 'But',\n",
              " 'nothing',\n",
              " 'is',\n",
              " 'quite',\n",
              " 'as',\n",
              " 'it',\n",
              " 'seems.',\n",
              " 'Adventure',\n",
              " 'Fantasy',\n",
              " 'Action',\n",
              " 'ocean',\n",
              " 'drugabuse',\n",
              " 'exoticisland',\n",
              " 'eastindiatradingcompany',\n",
              " \"loveofone'slife\",\n",
              " 'traitor',\n",
              " 'shipwreck',\n",
              " 'strongwoman',\n",
              " 'ship',\n",
              " 'alliance',\n",
              " 'calypso',\n",
              " 'afterlife',\n",
              " 'fighter',\n",
              " 'pirate',\n",
              " 'swashbuckler',\n",
              " 'aftercreditsstinger',\n",
              " 'JohnnyDepp',\n",
              " 'OrlandoBloom',\n",
              " 'KeiraKnightley',\n",
              " 'StellanSkarsgård',\n",
              " 'ChowYun-fat',\n",
              " 'JohnnyDepp',\n",
              " 'OrlandoBloom',\n",
              " 'KeiraKnightley',\n",
              " 'StellanSkarsgård',\n",
              " 'ChowYun-fat']"
            ]
          },
          "execution_count": 35,
          "metadata": {},
          "output_type": "execute_result"
        }
      ],
      "source": [
        "movies.iloc[1]['tags']"
      ]
    },
    {
      "cell_type": "code",
      "execution_count": null,
      "metadata": {
        "colab": {
          "base_uri": "https://localhost:8080/",
          "height": 414
        },
        "id": "8pqbds-J-Rte",
        "outputId": "9e782cc7-23c7-45a4-e04b-0c95281c05da"
      },
      "outputs": [
        {
          "data": {
            "text/html": [
              "<div>\n",
              "<style scoped>\n",
              "    .dataframe tbody tr th:only-of-type {\n",
              "        vertical-align: middle;\n",
              "    }\n",
              "\n",
              "    .dataframe tbody tr th {\n",
              "        vertical-align: top;\n",
              "    }\n",
              "\n",
              "    .dataframe thead th {\n",
              "        text-align: right;\n",
              "    }\n",
              "</style>\n",
              "<table border=\"1\" class=\"dataframe\">\n",
              "  <thead>\n",
              "    <tr style=\"text-align: right;\">\n",
              "      <th></th>\n",
              "      <th>movie_id</th>\n",
              "      <th>title</th>\n",
              "      <th>overview</th>\n",
              "      <th>genres</th>\n",
              "      <th>keywords</th>\n",
              "      <th>cast</th>\n",
              "      <th>crew</th>\n",
              "      <th>tags</th>\n",
              "    </tr>\n",
              "  </thead>\n",
              "  <tbody>\n",
              "    <tr>\n",
              "      <th>0</th>\n",
              "      <td>19995</td>\n",
              "      <td>Avatar</td>\n",
              "      <td>[In, the, 22nd, century,, a, paraplegic, Marin...</td>\n",
              "      <td>[Action, Adventure, Fantasy, ScienceFiction]</td>\n",
              "      <td>[cultureclash, future, spacewar, spacecolony, ...</td>\n",
              "      <td>[SamWorthington, ZoeSaldana, SigourneyWeaver, ...</td>\n",
              "      <td>[SamWorthington, ZoeSaldana, SigourneyWeaver, ...</td>\n",
              "      <td>[In, the, 22nd, century,, a, paraplegic, Marin...</td>\n",
              "    </tr>\n",
              "    <tr>\n",
              "      <th>1</th>\n",
              "      <td>285</td>\n",
              "      <td>Pirates of the Caribbean: At World's End</td>\n",
              "      <td>[Captain, Barbossa,, long, believed, to, be, d...</td>\n",
              "      <td>[Adventure, Fantasy, Action]</td>\n",
              "      <td>[ocean, drugabuse, exoticisland, eastindiatrad...</td>\n",
              "      <td>[JohnnyDepp, OrlandoBloom, KeiraKnightley, Ste...</td>\n",
              "      <td>[JohnnyDepp, OrlandoBloom, KeiraKnightley, Ste...</td>\n",
              "      <td>[Captain, Barbossa,, long, believed, to, be, d...</td>\n",
              "    </tr>\n",
              "    <tr>\n",
              "      <th>2</th>\n",
              "      <td>206647</td>\n",
              "      <td>Spectre</td>\n",
              "      <td>[A, cryptic, message, from, Bond’s, past, send...</td>\n",
              "      <td>[Action, Adventure, Crime]</td>\n",
              "      <td>[spy, basedonnovel, secretagent, sequel, mi6, ...</td>\n",
              "      <td>[DanielCraig, ChristophWaltz, LéaSeydoux, Ralp...</td>\n",
              "      <td>[DanielCraig, ChristophWaltz, LéaSeydoux, Ralp...</td>\n",
              "      <td>[A, cryptic, message, from, Bond’s, past, send...</td>\n",
              "    </tr>\n",
              "    <tr>\n",
              "      <th>3</th>\n",
              "      <td>49026</td>\n",
              "      <td>The Dark Knight Rises</td>\n",
              "      <td>[Following, the, death, of, District, Attorney...</td>\n",
              "      <td>[Action, Crime, Drama, Thriller]</td>\n",
              "      <td>[dccomics, crimefighter, terrorist, secretiden...</td>\n",
              "      <td>[ChristianBale, MichaelCaine, GaryOldman, Anne...</td>\n",
              "      <td>[ChristianBale, MichaelCaine, GaryOldman, Anne...</td>\n",
              "      <td>[Following, the, death, of, District, Attorney...</td>\n",
              "    </tr>\n",
              "    <tr>\n",
              "      <th>4</th>\n",
              "      <td>49529</td>\n",
              "      <td>John Carter</td>\n",
              "      <td>[John, Carter, is, a, war-weary,, former, mili...</td>\n",
              "      <td>[Action, Adventure, ScienceFiction]</td>\n",
              "      <td>[basedonnovel, mars, medallion, spacetravel, p...</td>\n",
              "      <td>[TaylorKitsch, LynnCollins, SamanthaMorton, Wi...</td>\n",
              "      <td>[TaylorKitsch, LynnCollins, SamanthaMorton, Wi...</td>\n",
              "      <td>[John, Carter, is, a, war-weary,, former, mili...</td>\n",
              "    </tr>\n",
              "  </tbody>\n",
              "</table>\n",
              "</div>"
            ],
            "text/plain": [
              "   movie_id                                     title  \\\n",
              "0     19995                                    Avatar   \n",
              "1       285  Pirates of the Caribbean: At World's End   \n",
              "2    206647                                   Spectre   \n",
              "3     49026                     The Dark Knight Rises   \n",
              "4     49529                               John Carter   \n",
              "\n",
              "                                            overview  \\\n",
              "0  [In, the, 22nd, century,, a, paraplegic, Marin...   \n",
              "1  [Captain, Barbossa,, long, believed, to, be, d...   \n",
              "2  [A, cryptic, message, from, Bond’s, past, send...   \n",
              "3  [Following, the, death, of, District, Attorney...   \n",
              "4  [John, Carter, is, a, war-weary,, former, mili...   \n",
              "\n",
              "                                         genres  \\\n",
              "0  [Action, Adventure, Fantasy, ScienceFiction]   \n",
              "1                  [Adventure, Fantasy, Action]   \n",
              "2                    [Action, Adventure, Crime]   \n",
              "3              [Action, Crime, Drama, Thriller]   \n",
              "4           [Action, Adventure, ScienceFiction]   \n",
              "\n",
              "                                            keywords  \\\n",
              "0  [cultureclash, future, spacewar, spacecolony, ...   \n",
              "1  [ocean, drugabuse, exoticisland, eastindiatrad...   \n",
              "2  [spy, basedonnovel, secretagent, sequel, mi6, ...   \n",
              "3  [dccomics, crimefighter, terrorist, secretiden...   \n",
              "4  [basedonnovel, mars, medallion, spacetravel, p...   \n",
              "\n",
              "                                                cast  \\\n",
              "0  [SamWorthington, ZoeSaldana, SigourneyWeaver, ...   \n",
              "1  [JohnnyDepp, OrlandoBloom, KeiraKnightley, Ste...   \n",
              "2  [DanielCraig, ChristophWaltz, LéaSeydoux, Ralp...   \n",
              "3  [ChristianBale, MichaelCaine, GaryOldman, Anne...   \n",
              "4  [TaylorKitsch, LynnCollins, SamanthaMorton, Wi...   \n",
              "\n",
              "                                                crew  \\\n",
              "0  [SamWorthington, ZoeSaldana, SigourneyWeaver, ...   \n",
              "1  [JohnnyDepp, OrlandoBloom, KeiraKnightley, Ste...   \n",
              "2  [DanielCraig, ChristophWaltz, LéaSeydoux, Ralp...   \n",
              "3  [ChristianBale, MichaelCaine, GaryOldman, Anne...   \n",
              "4  [TaylorKitsch, LynnCollins, SamanthaMorton, Wi...   \n",
              "\n",
              "                                                tags  \n",
              "0  [In, the, 22nd, century,, a, paraplegic, Marin...  \n",
              "1  [Captain, Barbossa,, long, believed, to, be, d...  \n",
              "2  [A, cryptic, message, from, Bond’s, past, send...  \n",
              "3  [Following, the, death, of, District, Attorney...  \n",
              "4  [John, Carter, is, a, war-weary,, former, mili...  "
            ]
          },
          "execution_count": 34,
          "metadata": {},
          "output_type": "execute_result"
        }
      ],
      "source": [
        "movies.head()"
      ]
    },
    {
      "cell_type": "code",
      "execution_count": null,
      "metadata": {
        "id": "JXaQRCYG-Rtj"
      },
      "outputs": [],
      "source": [
        "# creating new dataframe and removing extra columns\n",
        "new_DF = movies[['movie_id','title','tags']]"
      ]
    },
    {
      "cell_type": "code",
      "execution_count": null,
      "metadata": {
        "colab": {
          "base_uri": "https://localhost:8080/",
          "height": 310
        },
        "id": "T9VGQye4-Rtj",
        "outputId": "c3458b44-ec72-450b-8c0c-b2bf8dbc619b"
      },
      "outputs": [],
      "source": [
        "# Converting list to str\n",
        "new_DF['tags'] = new_DF['tags'].apply(lambda x: \" \".join(x))\n",
        "new_DF.head()"
      ]
    },
    {
      "cell_type": "code",
      "execution_count": null,
      "metadata": {
        "colab": {
          "base_uri": "https://localhost:8080/"
        },
        "id": "iCPK9Scd-Rtj",
        "outputId": "be57e59a-6b42-45d0-d7b6-dd29f84bd21a"
      },
      "outputs": [],
      "source": [
        "#lower case - text cleaning\n",
        "new_DF['tags'] = new_DF['tags'].apply(lambda x:x.lower())"
      ]
    },
    {
      "cell_type": "code",
      "execution_count": null,
      "metadata": {
        "colab": {
          "base_uri": "https://localhost:8080/",
          "height": 206
        },
        "id": "04zBftFn-Rtj",
        "outputId": "b9b3adcc-2024-423e-d58a-ae14dca39dcd"
      },
      "outputs": [
        {
          "data": {
            "text/html": [
              "<div>\n",
              "<style scoped>\n",
              "    .dataframe tbody tr th:only-of-type {\n",
              "        vertical-align: middle;\n",
              "    }\n",
              "\n",
              "    .dataframe tbody tr th {\n",
              "        vertical-align: top;\n",
              "    }\n",
              "\n",
              "    .dataframe thead th {\n",
              "        text-align: right;\n",
              "    }\n",
              "</style>\n",
              "<table border=\"1\" class=\"dataframe\">\n",
              "  <thead>\n",
              "    <tr style=\"text-align: right;\">\n",
              "      <th></th>\n",
              "      <th>movie_id</th>\n",
              "      <th>title</th>\n",
              "      <th>tags</th>\n",
              "    </tr>\n",
              "  </thead>\n",
              "  <tbody>\n",
              "    <tr>\n",
              "      <th>0</th>\n",
              "      <td>19995</td>\n",
              "      <td>Avatar</td>\n",
              "      <td>in the 22nd century, a paraplegic marine is di...</td>\n",
              "    </tr>\n",
              "    <tr>\n",
              "      <th>1</th>\n",
              "      <td>285</td>\n",
              "      <td>Pirates of the Caribbean: At World's End</td>\n",
              "      <td>captain barbossa, long believed to be dead, ha...</td>\n",
              "    </tr>\n",
              "    <tr>\n",
              "      <th>2</th>\n",
              "      <td>206647</td>\n",
              "      <td>Spectre</td>\n",
              "      <td>a cryptic message from bond’s past sends him o...</td>\n",
              "    </tr>\n",
              "    <tr>\n",
              "      <th>3</th>\n",
              "      <td>49026</td>\n",
              "      <td>The Dark Knight Rises</td>\n",
              "      <td>following the death of district attorney harve...</td>\n",
              "    </tr>\n",
              "    <tr>\n",
              "      <th>4</th>\n",
              "      <td>49529</td>\n",
              "      <td>John Carter</td>\n",
              "      <td>john carter is a war-weary, former military ca...</td>\n",
              "    </tr>\n",
              "  </tbody>\n",
              "</table>\n",
              "</div>"
            ],
            "text/plain": [
              "   movie_id                                     title  \\\n",
              "0     19995                                    Avatar   \n",
              "1       285  Pirates of the Caribbean: At World's End   \n",
              "2    206647                                   Spectre   \n",
              "3     49026                     The Dark Knight Rises   \n",
              "4     49529                               John Carter   \n",
              "\n",
              "                                                tags  \n",
              "0  in the 22nd century, a paraplegic marine is di...  \n",
              "1  captain barbossa, long believed to be dead, ha...  \n",
              "2  a cryptic message from bond’s past sends him o...  \n",
              "3  following the death of district attorney harve...  \n",
              "4  john carter is a war-weary, former military ca...  "
            ]
          },
          "execution_count": 39,
          "metadata": {},
          "output_type": "execute_result"
        }
      ],
      "source": [
        "new_DF.head()"
      ]
    },
    {
      "cell_type": "code",
      "execution_count": null,
      "metadata": {
        "colab": {
          "base_uri": "https://localhost:8080/",
          "height": 87
        },
        "id": "5W13cCjJ-Rtj",
        "outputId": "d68e05a8-fb5a-4d2b-e0e7-77101bc18b81"
      },
      "outputs": [
        {
          "data": {
            "text/plain": [
              "\"captain barbossa, long believed to be dead, has come back to life and is headed to the edge of the earth with will turner and elizabeth swann. but nothing is quite as it seems. adventure fantasy action ocean drugabuse exoticisland eastindiatradingcompany loveofone'slife traitor shipwreck strongwoman ship alliance calypso afterlife fighter pirate swashbuckler aftercreditsstinger johnnydepp orlandobloom keiraknightley stellanskarsgård chowyun-fat johnnydepp orlandobloom keiraknightley stellanskarsgård chowyun-fat\""
            ]
          },
          "execution_count": 40,
          "metadata": {},
          "output_type": "execute_result"
        }
      ],
      "source": [
        "new_DF.iloc[1]['tags']"
      ]
    },
    {
      "cell_type": "markdown",
      "metadata": {
        "id": "hRyzOjoSGgzK"
      },
      "source": [
        "Now we used **stemming** which is the process of reducing inflected (or sometimes derived) words to their word root form to simplify the matching"
      ]
    },
    {
      "cell_type": "code",
      "execution_count": null,
      "metadata": {
        "id": "a1MtXeJG-Rtk"
      },
      "outputs": [],
      "source": [
        "ps = PorterStemmer()"
      ]
    },
    {
      "cell_type": "code",
      "execution_count": 50,
      "metadata": {},
      "outputs": [],
      "source": [
        "def stems(text):\n",
        "    return \" \".join([ps.stem(word) for word in text.split()])\n",
        "\n",
        "new_DF['tags'] = new_DF['tags'].apply(stems)"
      ]
    },
    {
      "cell_type": "code",
      "execution_count": 51,
      "metadata": {
        "colab": {
          "base_uri": "https://localhost:8080/"
        },
        "id": "kG5JBsbn-Rtk",
        "outputId": "a863f4bb-0633-4a95-b6b9-8bf98779a9fb"
      },
      "outputs": [],
      "source": [
        "new_DF['tags'] = new_DF['tags'].apply(stems) #tags now contains stemmed tokens"
      ]
    },
    {
      "cell_type": "code",
      "execution_count": 53,
      "metadata": {
        "colab": {
          "base_uri": "https://localhost:8080/",
          "height": 87
        },
        "id": "_DJ4FSDl-Rtk",
        "outputId": "45d98564-b90d-4018-e65e-db81d2a49fbc"
      },
      "outputs": [
        {
          "data": {
            "text/plain": [
              "\"captain barbossa, long believ to be dead, ha come back to life and is head to the edg of the earth with will turner and elizabeth swann. but noth is quit as it seems. adventur fantasi action ocean drugabu exoticisland eastindiatradingcompani loveofone'slif traitor shipwreck strongwoman ship allianc calypso afterlif fighter pirat swashbuckl aftercreditsst johnnydepp orlandobloom keiraknightley stellanskarsgård chowyun-fat johnnydepp orlandobloom keiraknightley stellanskarsgård chowyun-fat\""
            ]
          },
          "execution_count": 53,
          "metadata": {},
          "output_type": "execute_result"
        }
      ],
      "source": [
        "new_DF.iloc[1]['tags']"
      ]
    },
    {
      "cell_type": "markdown",
      "metadata": {
        "id": "Cfl7hIp3IxVe"
      },
      "source": [
        "In this step, we will transform the text data (e.g., genres, cast, and overview) into numeric form using a tool called `CountVectorizer`.\n",
        "\n",
        "This provides  the list of most important words regarding each movie. Subsequently, we compute the **similarity** between all movies with each other using `cosine_similarity` and measure how similar they are in terms of those words.\n",
        "\n",
        "The outcome is a table demonstrating how similar each pair of films is. This table is then used to suggest films that are similar to the one the user chooses.\n"
      ]
    },
    {
      "cell_type": "code",
      "execution_count": 54,
      "metadata": {
        "id": "yFFX9bTX-Rtk"
      },
      "outputs": [],
      "source": [
        "cv = CountVectorizer(max_features=5000,stop_words='english')"
      ]
    },
    {
      "cell_type": "code",
      "execution_count": 55,
      "metadata": {
        "id": "KvxVy3Qd-Rtk"
      },
      "outputs": [],
      "source": [
        "vector = cv.fit_transform(new_DF['tags']).toarray()"
      ]
    },
    {
      "cell_type": "code",
      "execution_count": 56,
      "metadata": {
        "colab": {
          "base_uri": "https://localhost:8080/"
        },
        "id": "iw13MY8X-Rtk",
        "outputId": "e8ebecec-c265-46f6-8978-5c5464a49075"
      },
      "outputs": [
        {
          "data": {
            "text/plain": [
              "(4806, 5000)"
            ]
          },
          "execution_count": 56,
          "metadata": {},
          "output_type": "execute_result"
        }
      ],
      "source": [
        "vector.shape"
      ]
    },
    {
      "cell_type": "code",
      "execution_count": 57,
      "metadata": {
        "id": "9aMGCV0t-Rtl"
      },
      "outputs": [],
      "source": [
        "sim = cosine_similarity(vector)"
      ]
    },
    {
      "cell_type": "code",
      "execution_count": 58,
      "metadata": {
        "colab": {
          "base_uri": "https://localhost:8080/"
        },
        "id": "EeY0SaCz-Rtl",
        "outputId": "aa0a399a-ec16-476f-eebf-09aac5d59704"
      },
      "outputs": [
        {
          "data": {
            "text/plain": [
              "(4806, 4806)"
            ]
          },
          "execution_count": 58,
          "metadata": {},
          "output_type": "execute_result"
        }
      ],
      "source": [
        "sim.shape"
      ]
    },
    {
      "cell_type": "code",
      "execution_count": 59,
      "metadata": {
        "colab": {
          "base_uri": "https://localhost:8080/"
        },
        "id": "fswvT8rT-Rtl",
        "outputId": "31667704-d62b-4849-ab6d-0f64ddf5ee08"
      },
      "outputs": [
        {
          "data": {
            "text/plain": [
              "np.int64(744)"
            ]
          },
          "execution_count": 59,
          "metadata": {},
          "output_type": "execute_result"
        }
      ],
      "source": [
        "new_DF[new_DF['title'] == 'The Lego Movie'].index[0]"
      ]
    },
    {
      "cell_type": "markdown",
      "metadata": {
        "id": "0ko3zZSjKidf"
      },
      "source": [
        "**Recommendation function**"
      ]
    },
    {
      "cell_type": "code",
      "execution_count": 60,
      "metadata": {
        "id": "zaYHK9xw-Rtl"
      },
      "outputs": [],
      "source": [
        "def recommend(movie):\n",
        "    index = new_DF[new_DF['title'].str.lower() == movie.lower()].index   #lower case and find the matching index\n",
        "    if index.empty:\n",
        "        print(f\"Movie '{movie}' not found in dataset.\") #check if the movie exists\n",
        "        return\n",
        "\n",
        "    index = index[0] # Extract the actual index\n",
        "    distances = sorted(list(enumerate(sim[index])), reverse=True, key=lambda x: x[1])  #sort by similarity from the closest one\n",
        "    for i in distances[1:6]:\n",
        "        print(new_DF.iloc[i[0]].title)\n"
      ]
    },
    {
      "cell_type": "code",
      "execution_count": 64,
      "metadata": {
        "colab": {
          "base_uri": "https://localhost:8080/"
        },
        "id": "97n0jIOH-Rtl",
        "outputId": "9186802f-8e16-4955-eda1-457fd9b311e8"
      },
      "outputs": [
        {
          "name": "stdout",
          "output_type": "stream",
          "text": [
            "Batman\n",
            "Batman\n",
            "Batman Returns\n",
            "The R.M.\n",
            "Batman & Robin\n"
          ]
        }
      ],
      "source": [
        "recommend('batman')"
      ]
    },
    {
      "cell_type": "markdown",
      "metadata": {
        "id": "mfRSjk0_LDYf"
      },
      "source": [
        "Loading the pickled files is much faster than recomputing everything (data cleaning, vectorizing, similarity ....) every time we restart."
      ]
    },
    {
      "cell_type": "markdown",
      "metadata": {},
      "source": [
        "In google colab"
      ]
    },
    {
      "cell_type": "code",
      "execution_count": null,
      "metadata": {
        "id": "Ylpyk3Y--Rtl"
      },
      "outputs": [],
      "source": [
        "pickle.dump(new_DF,open('dataset/savedmodels/movie_list.pkl','wb'))\n",
        "pickle.dump(sim,open('dataset/savedmodels/similarity.pkl','wb'))"
      ]
    },
    {
      "cell_type": "markdown",
      "metadata": {},
      "source": [
        "In jupyter notebook"
      ]
    },
    {
      "cell_type": "code",
      "execution_count": null,
      "metadata": {},
      "outputs": [],
      "source": [
        "os.makedirs('datasett/savedmodels', exist_ok=True)\n",
        "pickle.dump(new_DF, open('datasett/savedmodels/movie_list.pkl', 'wb'))\n",
        "pickle.dump(sim, open('datasett/savedmodels/similarity.pkl', 'wb'))"
      ]
    }
  ],
  "metadata": {
    "colab": {
      "provenance": []
    },
    "kernelspec": {
      "display_name": "venv",
      "language": "python",
      "name": "python3"
    },
    "language_info": {
      "codemirror_mode": {
        "name": "ipython",
        "version": 3
      },
      "file_extension": ".py",
      "mimetype": "text/x-python",
      "name": "python",
      "nbconvert_exporter": "python",
      "pygments_lexer": "ipython3",
      "version": "3.12.2"
    }
  },
  "nbformat": 4,
  "nbformat_minor": 0
}
